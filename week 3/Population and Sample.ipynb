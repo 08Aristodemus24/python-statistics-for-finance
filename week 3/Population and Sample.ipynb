{
 "cells": [
  {
   "cell_type": "markdown",
   "metadata": {},
   "source": [
    "## Population and Sample"
   ]
  },
  {
   "cell_type": "code",
   "execution_count": 1,
   "metadata": {
    "collapsed": true
   },
   "outputs": [],
   "source": [
    "import pandas as pd\n",
    "import numpy as np"
   ]
  },
  {
   "cell_type": "code",
   "execution_count": 2,
   "metadata": {
    "collapsed": true
   },
   "outputs": [],
   "source": [
    "# Create a Population DataFrame with 10 data \n",
    "\n",
    "data = pd.DataFrame()\n",
    "data['Population'] = [47, 48, 85, 20, 19, 13, 72, 16, 50, 60]"
   ]
  },
  {
   "cell_type": "markdown",
   "metadata": {},
   "source": [
    "You may get different results from sampling."
   ]
  },
  {
   "cell_type": "code",
   "execution_count": 3,
   "metadata": {},
   "outputs": [
    {
     "name": "stdout",
     "output_type": "stream",
     "text": [
      "8    50\n",
      "4    19\n",
      "9    60\n",
      "8    50\n",
      "2    85\n",
      "Name: Population, dtype: int64\n"
     ]
    }
   ],
   "source": [
    "# Draw sample with replacement, size=5 from Population\n",
    "\n",
    "a_sample_with_replacement = data['Population'].sample(5, replace=True)\n",
    "print(a_sample_with_replacement)"
   ]
  },
  {
   "cell_type": "code",
   "execution_count": 4,
   "metadata": {},
   "outputs": [
    {
     "name": "stdout",
     "output_type": "stream",
     "text": [
      "8    50\n",
      "5    13\n",
      "3    20\n",
      "0    47\n",
      "9    60\n",
      "Name: Population, dtype: int64\n"
     ]
    }
   ],
   "source": [
    "# Draw sample without replacement, size=5 from Population\n",
    "\n",
    "a_sample_without_replacement = data['Population'].sample(5, replace=False)\n",
    "print(a_sample_without_replacement)"
   ]
  },
  {
   "cell_type": "markdown",
   "metadata": {},
   "source": [
    "# Parameters and Statistics"
   ]
  },
  {
   "cell_type": "code",
   "execution_count": 5,
   "metadata": {},
   "outputs": [
    {
     "name": "stdout",
     "output_type": "stream",
     "text": [
      "Population mean is  43.0\n",
      "Population standard deviation is  25.20581943387942\n",
      "Population variance is 635.3333333333334\n"
     ]
    },
    {
     "data": {
      "image/png": "[encoded data removed]",
      "text/plain": [
       "<Figure size 640x480 with 1 Axes>"
      ]
     },
     "metadata": {},
     "output_type": "display_data"
    }
   ],
   "source": [
    "# Calculate mean and variance\n",
    "population_mean = data['Population'].mean()\n",
    "population_std = data['Population'].std(ddof=1)\n",
    "population_var = data['Population'].var(ddof=1)\n",
    "print('Population mean is ', population_mean)\n",
    "print('Population standard deviation is ', population_std)\n",
    "print('Population variance is', population_var)\n",
    "\n",
    "import matplotlib.pyplot as plt\n",
    "%matplotlib inline\n",
    "\n",
    "plt.scatter(data['Population'], np.zeros(data['Population'].shape), c='#0349fc', marker='p', alpha=0.5)\n",
    "plt.scatter(population_mean, 0, c='#fc036f', marker='p')\n",
    "plt.plot(data['Population'].sort_values(), np.zeros(data['Population'].shape), c='#6b03fc')\n",
    "plt.savefig('standard deviation.png')\n",
    "plt.show()"
   ]
  },
  {
   "cell_type": "markdown",
   "metadata": {},
   "source": [
    "**Expected Output: ** Population mean is  43.0\n",
    "Population variance is 571.8\n"
   ]
  },
  {
   "cell_type": "markdown",
   "metadata": {},
   "source": [
    "You may get different result from sampling."
   ]
  },
  {
   "cell_type": "code",
   "execution_count": 6,
   "metadata": {},
   "outputs": [
    {
     "name": "stdout",
     "output_type": "stream",
     "text": [
      "Sample mean is  30.4\n",
      "Sample variance is 465.8222222222222\n"
     ]
    }
   ],
   "source": [
    "# Calculate sample mean and sample standard deviation, size =10\n",
    "# You will get different mean and varince every time when you excecute the below code\n",
    "\n",
    "a_sample = data['Population'].sample(10, replace=True)\n",
    "sample_mean = a_sample.mean()\n",
    "sample_var = a_sample.var()\n",
    "print('Sample mean is ', sample_mean)\n",
    "print('Sample variance is', sample_var)"
   ]
  },
  {
   "cell_type": "markdown",
   "metadata": {},
   "source": [
    "# Average of an unbiased estimator"
   ]
  },
  {
   "cell_type": "code",
   "execution_count": 7,
   "metadata": {
    "collapsed": true
   },
   "outputs": [],
   "source": [
    "no_times_to_sample = 500\n",
    "sample_variance_collection=[data['Population'].sample(10, replace=True).var(ddof=1) for i in range(no_times_to_sample)]"
   ]
  },
  {
   "cell_type": "code",
   "execution_count": null,
   "metadata": {
    "collapsed": true
   },
   "outputs": [],
   "source": []
  }
 ],
 "metadata": {
  "kernelspec": {
   "display_name": "Python 3",
   "language": "python",
   "name": "python3"
  },
  "language_info": {
   "codemirror_mode": {
    "name": "ipython",
    "version": 3
   },
   "file_extension": ".py",
   "mimetype": "text/x-python",
   "name": "python",
   "nbconvert_exporter": "python",
   "pygments_lexer": "ipython3",
   "version": "3.9.12"
  }
 },
 "nbformat": 4,
 "nbformat_minor": 2
}
